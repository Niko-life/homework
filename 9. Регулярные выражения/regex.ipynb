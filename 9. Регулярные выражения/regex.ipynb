{
 "cells": [
  {
   "cell_type": "markdown",
   "metadata": {},
   "source": [
    "**Задание 1.** Напишите функцию, которая принимает на вход строку и проверяет является ли она валидным транспортным номером. Если да, то функция должна возвращать отдельно номер и регион."
   ]
  },
  {
   "cell_type": "code",
   "execution_count": 2,
   "metadata": {},
   "outputs": [],
   "source": [
    "import re"
   ]
  },
  {
   "cell_type": "code",
   "execution_count": 24,
   "metadata": {},
   "outputs": [
    {
     "name": "stdout",
     "output_type": "stream",
     "text": [
      "['С065МК'] ['78']\n"
     ]
    }
   ],
   "source": [
    "transport_num = 'С065МК78'\n",
    "\n",
    "def transport(number):\n",
    "    regex = '^[А-Я]{1}[\\d]{3}[А-Я]{2}[\\d]{2,3}$'\n",
    "    regex_num = '^[А-Я]{1}[\\d]{3}[А-Я]{2}'\n",
    "    regex_region = '[\\d]{2,3}$'\n",
    "    \n",
    "    if re.match(regex, transport_num):\n",
    "        num = re.findall(regex_num, transport_num)\n",
    "        region = re.findall(regex_region, transport_num)\n",
    "        print(num, region)\n",
    "    else:\n",
    "        print('Номер не валиден')\n",
    "        \n",
    "transport(transport_num)"
   ]
  },
  {
   "cell_type": "markdown",
   "metadata": {},
   "source": [
    "**Задание 2**. Напишите функцию, которая проверяет e-mail адрес на валидность по стандарту RFC822: http://www.w3.org/Protocols/rfc822/. Для этого постарайтесь написать (в крайнем случае найти) самый полный шаблон для проверки e-mail адресов через регулярное выражение. Разберитесь и напишите примеры, какие ваш шаблон может не охватить."
   ]
  },
  {
   "cell_type": "code",
   "execution_count": 15,
   "metadata": {},
   "outputs": [
    {
     "name": "stdout",
     "output_type": "stream",
     "text": [
      "bebkov0310@gmail.com валиден\n",
      "$idorov@gmail.com не валиден\n",
      "ivan&maria@gmail.com не валиден\n"
     ]
    }
   ],
   "source": [
    "email_list = ['bebkov0310@gmail.com', '$idorov@gmail.com', 'ivan&maria@gmail.com']\n",
    "\n",
    "def is_valid_email(email_list):\n",
    "    regex = '^[a-zA-Z0-9_.+-]+@[a-zA-Z0-9-]+\\.[a-zA-Z0-9-.]+$'\n",
    "    for email in email_list:\n",
    "        if re.match(regex, email):\n",
    "            print(f'{email} валиден')\n",
    "        else:\n",
    "            print(f'{email} не валиден')\n",
    "            \n",
    "is_valid_email(email_list)"
   ]
  },
  {
   "cell_type": "markdown",
   "metadata": {},
   "source": [
    "**Задание 3.** Напишите функцию, которая будет удалять все последовательные повторы слов из заданной строки при помощи регулярных выражений."
   ]
  },
  {
   "cell_type": "code",
   "execution_count": 34,
   "metadata": {},
   "outputs": [
    {
     "data": {
      "text/plain": [
       "\"So far, we've been writing regular expressions that partially match pieces across all the text. Sometimes this isn't desirable, imagine for example we wanted to match the word 'success' in a log file.\""
      ]
     },
     "execution_count": 34,
     "metadata": {},
     "output_type": "execute_result"
    }
   ],
   "source": [
    "text = \"So far, we've been Been been writing regular expressions that partially partially match pieces across all the text. \" \\\n",
    "        \"Sometimes this isn't desirable, imagine imagine for example we wanted to match the word word 'success' in a log file.\"\n",
    "\n",
    "def delete_duplicates(text):\n",
    "    regex = r'([a-z]+\\s+)(\\1)+'\n",
    "    new_text = re.sub(regex, r'\\1', text, flags=re.IGNORECASE)\n",
    "    \n",
    "    return new_text\n",
    "\n",
    "delete_duplicates(text)"
   ]
  },
  {
   "cell_type": "markdown",
   "metadata": {},
   "source": [
    "**Задание 4**. Напишите функцию, которая будет проверять номер сотового телефона на валидность, если он валиден, то переводить его в формат:   \n",
    "+7(xxx)-xxx-xx-xx  \n",
    "Постарайтесь предусмотреть как можно больше адекватных форматов изначального ввода номера.\n",
    "Примеры валидных форматов:\n",
    "- +7 955 555-55-55;\n",
    "- 9555555555;\n",
    "- 8(955)555-55-55;\n",
    "- +7 955 555 55 55;\n",
    "- 7(955) 555-55-55;\n",
    "- +7 955+555+55+55."
   ]
  },
  {
   "cell_type": "code",
   "execution_count": 39,
   "metadata": {},
   "outputs": [
    {
     "data": {
      "text/plain": [
       "'+7(955)-555-55-55'"
      ]
     },
     "execution_count": 39,
     "metadata": {},
     "output_type": "execute_result"
    }
   ],
   "source": [
    "phone_num = '+7 955 555-55-55'\n",
    "regex = r'^(\\+?\\d?)([+(\\-\\s]*)([\\d]{3})([+)\\-\\s]*)([\\d]{3})([+\\-\\s]?)([\\d]{2})([+\\-\\s]?)([\\d]{2})$'\n",
    "\n",
    "def phone_format(phone_num):\n",
    "    if re.match(regex, phone_num):\n",
    "        new_phone_num = re.sub(regex, r'+7(\\3)-\\5-\\7-\\9', phone_num)\n",
    "        \n",
    "        return new_phone_num\n",
    "    else:\n",
    "        print('Номер не валиден')\n",
    "        \n",
    "phone_format(phone_num)"
   ]
  },
  {
   "cell_type": "code",
   "execution_count": null,
   "metadata": {},
   "outputs": [],
   "source": []
  }
 ],
 "metadata": {
  "kernelspec": {
   "display_name": "Python 3",
   "language": "python",
   "name": "python3"
  },
  "language_info": {
   "codemirror_mode": {
    "name": "ipython",
    "version": 3
   },
   "file_extension": ".py",
   "mimetype": "text/x-python",
   "name": "python",
   "nbconvert_exporter": "python",
   "pygments_lexer": "ipython3",
   "version": "3.7.4"
  }
 },
 "nbformat": 4,
 "nbformat_minor": 2
}
