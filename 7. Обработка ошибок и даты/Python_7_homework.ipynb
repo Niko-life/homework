{
 "cells": [
  {
   "cell_type": "markdown",
   "metadata": {},
   "source": [
    "# Домашнее задание"
   ]
  },
  {
   "cell_type": "markdown",
   "metadata": {},
   "source": [
    "### Задание 1\n",
    "Напишите функцию date_range, которая возвращает список дней между датами start_date и end_date. Даты должны вводиться в формате YYYY-MM-DD."
   ]
  },
  {
   "cell_type": "code",
   "execution_count": null,
   "metadata": {},
   "outputs": [],
   "source": [
    "from datetime import datetime\n",
    "from datetime import timedelta"
   ]
  },
  {
   "cell_type": "code",
   "execution_count": null,
   "metadata": {},
   "outputs": [],
   "source": [
    "def date_range(start_date, end_date):\n",
    "    d1 = datetime.strptime(start_date, '%Y-%m-%d')\n",
    "    d2 = datetime.strptime(end_date, '%Y-%m-%d')\n",
    "    delta = d2 - d1\n",
    "    count = delta.days\n",
    "    date_list = []\n",
    "\n",
    "    for i in range(1, count):\n",
    "        i_date = d1 + timedelta(days=i)\n",
    "        i_date_str = i_date.strftime('%Y-%m-%d')\n",
    "        date_list.append(i_date_str)\n",
    "\n",
    "    return date_list\n",
    "\n",
    "date_range('2020-03-10', '2020-03-15')"
   ]
  },
  {
   "cell_type": "markdown",
   "metadata": {},
   "source": [
    "### Задание 2\n",
    "Дополните функцию из первого задания проверкой на корректность дат. В случае неверного формата или если start_date > end_date должен возвращаться пустой список."
   ]
  },
  {
   "cell_type": "code",
   "execution_count": null,
   "metadata": {},
   "outputs": [],
   "source": [
    "def date_range(start_date, end_date):\n",
    "    date_list = []\n",
    "    try:\n",
    "        d1 = datetime.strptime(start_date, '%Y-%m-%d')\n",
    "        d2 = datetime.strptime(end_date, '%Y-%m-%d')\n",
    "    except:\n",
    "        return date_list\n",
    "\n",
    "    delta = d2 - d1\n",
    "    count = delta.days\n",
    "    for i in range(1, count):\n",
    "        i_date = d1 + timedelta(days=i)\n",
    "        i_date_str = i_date.strftime('%Y-%m-%d')\n",
    "        date_list.append(i_date_str)\n",
    "\n",
    "    return date_list\n",
    "\n",
    "date_range('2020-03-15', '2020-03-10')"
   ]
  },
  {
   "cell_type": "markdown",
   "metadata": {},
   "source": [
    "### Задание 3\n",
    "Дан поток дат в формате YYYY-MM-DD, в которых встречаются некорректные значения:\n",
    "stream = [‘2018-04-02’, ‘2018-02-29’, ‘2018-19-02’]\n",
    "\n",
    "Напишите функцию, которая проверяет эти даты на корректность. Т. е. для каждой даты возвращает True (дата корректна) или False (некорректная дата)."
   ]
  },
  {
   "cell_type": "code",
   "execution_count": null,
   "metadata": {},
   "outputs": [],
   "source": [
    "stream = ['2018-04-02', '2018-02-29', '2018-19-02']\n",
    "\n",
    "def is_valid_date(date_list):\n",
    "    result_dict = {}\n",
    "    for date in date_list:\n",
    "        date_dt = 0\n",
    "        is_valid = True\n",
    "\n",
    "        try:\n",
    "            date_dt = datetime.strptime(date, '%Y-%m-%d')\n",
    "            is_valid = True\n",
    "        except:\n",
    "            is_valid = False\n",
    "\n",
    "        result_dict[date] = is_valid\n",
    "        \n",
    "    return result_dict\n",
    "\n",
    "is_valid_date(stream)"
   ]
  },
  {
   "cell_type": "code",
   "execution_count": null,
   "metadata": {},
   "outputs": [],
   "source": [
    "date_dt = datetime.strptime('2018-04-02', '%Y-%m-%d')\n",
    "date_dt"
   ]
  },
  {
   "cell_type": "markdown",
   "metadata": {},
   "source": [
    "### Задание 4 (бонусное)\n",
    "Ваш коллега прислал код функции:"
   ]
  },
  {
   "cell_type": "code",
   "execution_count": null,
   "metadata": {},
   "outputs": [],
   "source": [
    "DEFAULT_USER_COUNT = 3\n",
    "\n",
    "def delete_and_return_last_user(region, default_list=['A100', 'A101', 'A102']):\n",
    "    \"\"\"\n",
    "    Удаляет из списка default_list последнего пользователя\n",
    "    и возвращает ID нового последнего пользователя.\n",
    "    \"\"\"\n",
    "    element_to_delete = default_list[-1]\n",
    "    default_list.remove(element_to_delete)\n",
    "\n",
    "    return default_list[DEFAULT_USER_COUNT-2]\n",
    "\n",
    "delete_and_return_last_user(1)"
   ]
  },
  {
   "cell_type": "markdown",
   "metadata": {},
   "source": [
    "При однократном вызове этой функции все работает корректно:\n",
    "delete_and_return_last_user(1)\n",
    "‘A101’\n",
    "\n",
    "Однако, при повторном вызове получается ошибка IndexError: list index out of range.\n",
    "\n",
    "#### Задание:\n",
    "\n",
    "* Что значит ошибка list index out of range?\n",
    "* Почему при первом запуске функция работает корректно, а при втором - нет?"
   ]
  },
  {
   "cell_type": "markdown",
   "metadata": {},
   "source": [
    "#### Ответы\n",
    "* Ошибка означает, функция пытается обратиться к несуществующему элементу списка - не найден элемент с данным индексом.\n",
    "* Вызываю код в ячейке и вызов функции всегда отрабатывает корректно - результа 'A101'. Вероятно, это из за того что мы при вызове постоянно переопределяем default_list на список из 3х элементов. Если не переопределять список, то функция должна удалять последний элемент так, что при следующем вызове захардкоженные индексы уже не будут попадать в список и возникнет ошибка \"list index out of range\"."
   ]
  },
  {
   "cell_type": "code",
   "execution_count": null,
   "metadata": {},
   "outputs": [],
   "source": [
    "list_ = ['A100', 'A101', 'A102']"
   ]
  },
  {
   "cell_type": "code",
   "execution_count": null,
   "metadata": {},
   "outputs": [],
   "source": [
    "DEFAULT_USER_COUNT = len(list_)\n",
    "\n",
    "def delete_and_return_last_user(region, default_list):\n",
    "    \"\"\"\n",
    "    Удаляет из списка default_list последнего пользователя\n",
    "    и возвращает ID нового последнего пользователя.\n",
    "    \"\"\"\n",
    "    try:\n",
    "        element_to_delete = default_list[-1]\n",
    "        default_list.remove(element_to_delete)\n",
    "\n",
    "        return default_list[-1]\n",
    "    except:\n",
    "        print('Конец списка')\n",
    "        \n",
    "\n",
    "delete_and_return_last_user(1, list_)"
   ]
  }
 ],
 "metadata": {
  "kernelspec": {
   "display_name": "Python 3",
   "language": "python",
   "name": "python3"
  },
  "language_info": {
   "codemirror_mode": {
    "name": "ipython",
    "version": 3
   },
   "file_extension": ".py",
   "mimetype": "text/x-python",
   "name": "python",
   "nbconvert_exporter": "python",
   "pygments_lexer": "ipython3",
   "version": "3.7.4"
  }
 },
 "nbformat": 4,
 "nbformat_minor": 2
}
