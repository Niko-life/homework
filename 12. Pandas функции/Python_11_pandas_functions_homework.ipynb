{
 "cells": [
  {
   "cell_type": "markdown",
   "metadata": {},
   "source": [
    "# Домашнее задание"
   ]
  },
  {
   "cell_type": "markdown",
   "metadata": {},
   "source": [
    "### Задание 1\n",
    "Напишите функцию, которая классифицирует фильмы из материалов занятия по следующим правилам:\n",
    "- оценка 2 и меньше - низкий рейтинг\n",
    "- оценка 4 и меньше - средний рейтинг\n",
    "- оценка 4.5 и 5 - высокий рейтинг\n",
    "\n",
    "Результат классификации запишите в столбец class"
   ]
  },
  {
   "cell_type": "code",
   "execution_count": 1,
   "metadata": {},
   "outputs": [],
   "source": [
    "import pandas as pd"
   ]
  },
  {
   "cell_type": "code",
   "execution_count": null,
   "metadata": {},
   "outputs": [],
   "source": [
    "ratings = pd.read_csv('ml-latest/ratings.csv')\n",
    "\n",
    "def class_(row):\n",
    "    if row['rating'] <= 2:\n",
    "        return 'low'\n",
    "    if row['rating'] > 2 and row['rating'] <= 4:\n",
    "        return 'mean'\n",
    "    if row['rating'] > 4:\n",
    "        return 'high'\n",
    "    \n",
    "ratings['class'] = ratings.apply(class_, axis=1)\n",
    "ratings.head()"
   ]
  },
  {
   "cell_type": "markdown",
   "metadata": {},
   "source": [
    "### Задание 2\n",
    "Используем файл keywords.csv.\n",
    "\n",
    "Необходимо написать гео-классификатор, который каждой строке сможет выставить географическую принадлежность определенному региону. Т. е. если поисковый запрос содержит название города региона, то в столбце ‘region’ пишется название этого региона. Если поисковый запрос не содержит названия города, то ставим ‘undefined’.\n",
    "\n",
    "Правила распределения по регионам Центр, Северо-Запад и Дальний Восток:\n",
    "\n",
    "```json\n",
    "geo_data = {\n",
    "'Центр': ['москва', 'тула', 'ярославль'],\n",
    "'Северо-Запад': ['петербург', 'псков', 'мурманск'],\n",
    "'Дальний Восток': ['владивосток', 'сахалин', 'хабаровск'] \n",
    "}\n",
    "```\n",
    "\n",
    "Результат классификации запишите в отдельный столбец region."
   ]
  },
  {
   "cell_type": "code",
   "execution_count": null,
   "metadata": {},
   "outputs": [],
   "source": [
    "geo_data = {\n",
    "            'Центр': ['москва', 'тула', 'ярославль'],\n",
    "            'Северо-Запад': ['петербург', 'псков', 'мурманск'],\n",
    "            'Дальний Восток': ['владивосток', 'сахалин', 'хабаровск'] \n",
    "            }\n",
    "\n",
    "stats = pd.read_csv('keywords.csv')\n",
    "\n",
    "def geo(row):\n",
    "    value = ''\n",
    "    for region, city_list in geo_data.items():\n",
    "        for city in city_list:\n",
    "            if city in row['keyword']:               \n",
    "                value = region\n",
    "            else:\n",
    "                value = 'undefined'\n",
    "    \n",
    "    return value\n",
    "\n",
    "stats['region'] = stats.apply(geo, axis=1)\n",
    "# stats\n",
    "stats[ (stats['region'] == 'Дальний Восток' ) ]"
   ]
  },
  {
   "cell_type": "markdown",
   "metadata": {},
   "source": [
    "### Задание 3\n",
    "Есть мнение, что “раньше снимали настоящее кино, не то что сейчас”. Ваша задача проверить это утверждение, используя файлы с рейтингами фильмов из прошлого домашнего занятия (файл ratings.csv из базы https://grouplens.org/datasets/movielens). Т. е. проверить верно ли, что с ростом года выпуска фильма его средний рейтинг становится ниже.\n",
    "\n",
    "При этом мы не будем затрагивать субьективные факторы выставления этих рейтингов, а пройдемся по следующему алгоритму:\n",
    "\n",
    "В переменную years запишите список из всех годов с 1950 по 2010.\n",
    "\n",
    "Напишите функцию production_year, которая каждой строке из названия фильма выставляет год выпуска. Не все названия фильмов содержат год выпуска в одинаковом формате, поэтому используйте следующий алгоритм:\n",
    "\n",
    "для каждой строки пройдите по всем годам списка years\n",
    "если номер года присутствует в названии фильма, то функция возвращает этот год как год выпуска\n",
    "если ни один из номеров года списка years не встретился в названии фильма, то возвращается 1900 год\n",
    "Запишите год выпуска фильма по алгоритму пункта 2 в новый столбец ‘year’\n",
    "\n",
    "Посчитайте средний рейтинг всех фильмов для каждого значения столбца ‘year’ и отсортируйте результат по убыванию рейтинга"
   ]
  },
  {
   "cell_type": "code",
   "execution_count": null,
   "metadata": {},
   "outputs": [],
   "source": []
  },
  {
   "cell_type": "code",
   "execution_count": 79,
   "metadata": {},
   "outputs": [
    {
     "data": {
      "text/plain": [
       "year\n",
       "1957    4.039535\n",
       "1954    4.009191\n",
       "1962    3.969466\n",
       "1952    3.953125\n",
       "1972    3.944293\n",
       "          ...   \n",
       "2000    3.398922\n",
       "2005    3.359976\n",
       "1992    3.353555\n",
       "1997    3.347241\n",
       "1996    3.335329\n",
       "Name: rating, Length: 62, dtype: float64"
      ]
     },
     "execution_count": 79,
     "metadata": {},
     "output_type": "execute_result"
    }
   ],
   "source": [
    "ratings = pd.read_csv('ml-latest/ratings.csv')\n",
    "movies = pd.read_csv('ml-latest/movies.csv')\n",
    "ratings_joined = ratings.merge(movies, on='movieId', how='left')\n",
    "\n",
    "years = list(range(1950, 2011))\n",
    "\n",
    "\n",
    "def production_year(row):\n",
    "    value = 0\n",
    "    for year in years:\n",
    "        if str(year) in str(row['title']):\n",
    "            value = year\n",
    "            break\n",
    "        else:\n",
    "            value = 1900\n",
    "    return value\n",
    "\n",
    "ratings_joined['year'] = ratings_joined.apply(production_year, axis=1)\n",
    "ratings_joined[['title', 'rating', 'year']]\n",
    "\n",
    "ratings_joined.groupby('year').mean()['rating'].sort_values(ascending=False)"
   ]
  },
  {
   "cell_type": "code",
   "execution_count": null,
   "metadata": {},
   "outputs": [],
   "source": []
  },
  {
   "cell_type": "code",
   "execution_count": null,
   "metadata": {},
   "outputs": [],
   "source": []
  },
  {
   "cell_type": "code",
   "execution_count": null,
   "metadata": {},
   "outputs": [],
   "source": []
  }
 ],
 "metadata": {
  "kernelspec": {
   "display_name": "Python 3",
   "language": "python",
   "name": "python3"
  },
  "language_info": {
   "codemirror_mode": {
    "name": "ipython",
    "version": 3
   },
   "file_extension": ".py",
   "mimetype": "text/x-python",
   "name": "python",
   "nbconvert_exporter": "python",
   "pygments_lexer": "ipython3",
   "version": "3.7.4"
  }
 },
 "nbformat": 4,
 "nbformat_minor": 2
}
