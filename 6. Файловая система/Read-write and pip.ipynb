{
 "cells": [
  {
   "cell_type": "markdown",
   "metadata": {},
   "source": [
    "# Домашнее задание\n",
    "1. Переведите содержимое файла purchase_log.txt в словарь purchases вида:\n",
    "```python\n",
    "{'1840e0b9d4': 'Продукты', ...}\n",
    "```\n",
    "\n",
    "2. Для каждого user_id в файле visit_log.csv добавьте третий столбец с категорией покупки (если покупка была).\n",
    "\n",
    "3. Запишите в файл funnel.csv визиты из файла visit_log.csv, в которых были покупки с указанием категории.\n",
    "\n",
    "Учтите условия на данные:\n",
    "- содержимое purchase_log.txt помещается в оперативную память компьютера\n",
    "- содержимое visit_log.csv - нет; используйте только построчную обработку этого файла"
   ]
  },
  {
   "cell_type": "code",
   "execution_count": 1,
   "metadata": {},
   "outputs": [],
   "source": [
    "import json\n",
    "\n",
    "i = 0\n",
    "y = 0\n",
    "user_dict = {}\n",
    "with open('purchase_log.txt', encoding='utf-8') as f:\n",
    "        next(f)\n",
    "        for line in f:\n",
    "            line = line.strip()\n",
    "            dict_ = json.loads(line)\n",
    "\n",
    "            user_dict[dict_['user_id']] = dict_['category']\n",
    "            \n",
    "#             i += 1\n",
    "#             if i > 150:\n",
    "#                 break\n",
    "            \n",
    "with open('visit_log.csv', encoding='utf-8') as v:\n",
    "    with open('new_visit_log.csv', 'w') as nv:\n",
    "        next(v)\n",
    "        for visit_line in v:\n",
    "            visit = visit_line.strip().split(',')\n",
    "\n",
    "            if visit[0] in user_dict:\n",
    "                new_line = f\"{visit_line.strip()},{user_dict[visit[0]]}\"\n",
    "                nv.write(f\"{new_line}\\n\")\n",
    "            else:\n",
    "                new_line = visit_line\n",
    "                nv.write(new_line)\n",
    "\n",
    "with open('new_visit_log.csv', 'r') as nvl:\n",
    "    with open('funnel.csv', 'w') as fn:\n",
    "        for visit_line in nvl:\n",
    "            visit = visit_line.strip().split(',')\n",
    "            \n",
    "            if visit[0] in user_dict:\n",
    "                fn.write(visit_line)\n",
    "                "
   ]
  },
  {
   "cell_type": "code",
   "execution_count": null,
   "metadata": {},
   "outputs": [],
   "source": []
  },
  {
   "cell_type": "code",
   "execution_count": null,
   "metadata": {},
   "outputs": [],
   "source": []
  }
 ],
 "metadata": {
  "kernelspec": {
   "display_name": "Python 3",
   "language": "python",
   "name": "python3"
  },
  "language_info": {
   "codemirror_mode": {
    "name": "ipython",
    "version": 3
   },
   "file_extension": ".py",
   "mimetype": "text/x-python",
   "name": "python",
   "nbconvert_exporter": "python",
   "pygments_lexer": "ipython3",
   "version": "3.7.4"
  }
 },
 "nbformat": 4,
 "nbformat_minor": 2
}
