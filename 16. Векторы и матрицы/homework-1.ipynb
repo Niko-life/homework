{
 "cells": [
  {
   "cell_type": "code",
   "execution_count": 2,
   "metadata": {},
   "outputs": [],
   "source": [
    "import numpy as np\n",
    "import matplotlib.pyplot as plt"
   ]
  },
  {
   "cell_type": "markdown",
   "metadata": {},
   "source": [
    "## Задание 1"
   ]
  },
  {
   "cell_type": "markdown",
   "metadata": {},
   "source": [
    "Изобразите с помощью matplotlib. Изобразите точку x + 2y + 3z. Найдите угол между векторами x, y и x, z. "
   ]
  },
  {
   "cell_type": "code",
   "execution_count": 36,
   "metadata": {},
   "outputs": [],
   "source": [
    "x = np.array([1, 1])\n",
    "y = np.array([2, 0])\n",
    "z = np.array([0, 2])"
   ]
  },
  {
   "cell_type": "code",
   "execution_count": 37,
   "metadata": {},
   "outputs": [
    {
     "data": {
      "text/plain": [
       "array([5, 7])"
      ]
     },
     "execution_count": 37,
     "metadata": {},
     "output_type": "execute_result"
    }
   ],
   "source": [
    "point = x + 2 * y + 3 * z\n",
    "point"
   ]
  },
  {
   "cell_type": "code",
   "execution_count": 38,
   "metadata": {},
   "outputs": [
    {
     "data": {
      "image/png": "[encoded data removed]",
      "text/plain": [
       "<Figure size 432x288 with 1 Axes>"
      ]
     },
     "metadata": {
      "needs_background": "light"
     },
     "output_type": "display_data"
    }
   ],
   "source": [
    "ax = plt.axes()\n",
    "\n",
    "plt.xlim( [-1, 8] )\n",
    "plt.ylim( [-1, 8] )\n",
    "\n",
    "ax.arrow( 0, 0, x[0], x[1], head_width=0.1, head_length=0.2, fc='k', ec='k' )\n",
    "ax.arrow( 0, 0, y[0], y[1], head_width=0.1, head_length=0.2, fc='k', ec='k' )\n",
    "ax.arrow( 0, 0, z[0], z[1], head_width=0.1, head_length=0.2, fc='k', ec='k' )\n",
    "\n",
    "plt.plot(*point, marker='.', color='k', ls='')\n",
    "\n",
    "plt.show()"
   ]
  },
  {
   "cell_type": "code",
   "execution_count": 39,
   "metadata": {},
   "outputs": [],
   "source": [
    "def cosine( a, b ):\n",
    "    \"\"\"\n",
    "    Подсчет косинуса угла между векторами a, b по их координатам\n",
    "    \"\"\"\n",
    "    \n",
    "    # длины векторов\n",
    "    aLength = np.linalg.norm( a )\n",
    "    bLength = np.linalg.norm( b )\n",
    "    \n",
    "    return np.dot( a, b ) / ( aLength * bLength )"
   ]
  },
  {
   "cell_type": "code",
   "execution_count": 40,
   "metadata": {},
   "outputs": [
    {
     "name": "stdout",
     "output_type": "stream",
     "text": [
      "45.00000000000001\n",
      "45.00000000000001\n"
     ]
    }
   ],
   "source": [
    "XYang = np.arccos( cosine( x, y ) ) * 360 / 2 / np.pi\n",
    "XZang = np.arccos( cosine( x, z ) ) * 360 / 2 / np.pi\n",
    "print(XYang)\n",
    "print(XZang)"
   ]
  },
  {
   "cell_type": "markdown",
   "metadata": {},
   "source": [
    "## Задание 2"
   ]
  },
  {
   "cell_type": "markdown",
   "metadata": {},
   "source": [
    "Найдите собственные значения и собственные вектора матриц (необходимо решение на numpy и решение по алгоритму на бумажке). Для матрицы 3x3 можно посмотреть на корни характеристического многочлена, посчитанные в numpy."
   ]
  },
  {
   "cell_type": "code",
   "execution_count": 3,
   "metadata": {},
   "outputs": [],
   "source": [
    "m1 = np.array([[2, 2],\n",
    "               [1, 3]])\n",
    "\n",
    "m2 = np.array([[4, 1, -1],\n",
    "               [1, 4, -1],\n",
    "               [-1, -1, 4]])"
   ]
  },
  {
   "cell_type": "markdown",
   "metadata": {},
   "source": [
    "### Решение для m1"
   ]
  },
  {
   "cell_type": "code",
   "execution_count": 4,
   "metadata": {},
   "outputs": [
    {
     "name": "stdout",
     "output_type": "stream",
     "text": [
      "Собственное значение 1.0\n",
      "Собственный вектор [-0.89442719  0.4472136 ]\n",
      "Собственное значение 4.0\n",
      "Собственный вектор [-0.70710678 -0.70710678]\n"
     ]
    }
   ],
   "source": [
    "w, v = np.linalg.eig(m1)\n",
    "for i in range(len(w)):\n",
    "    print(\"Собственное значение \" + str(w[i]))\n",
    "    print(\"Собственный вектор \" + str(v[:,i]))"
   ]
  },
  {
   "cell_type": "markdown",
   "metadata": {},
   "source": [
    "\\begin{equation*}\n",
    "\\begin{bmatrix}\n",
    "    2 - l & 2 \\\\\n",
    "    1 & 3 - l \\\\\n",
    "\\end{bmatrix}\n",
    "= 0\n",
    "\\end{equation*}\n",
    "\n",
    "\\begin{equation*}\n",
    "    (2 - l) * (3 - l) - 1 * 2 = 0 \\\\\n",
    "    l^2 - 5l + 4 = 0 \\\\\n",
    "    -\\\\\n",
    "    l_{1} = 1, l_{2} = 4\n",
    "\\end{equation*}\n",
    "\n",
    "\n",
    "---\n",
    "\n",
    "#### l = 1 :\n",
    "\\begin{equation*}\n",
    "x + 2*y = 0 \\\\\n",
    "x + 2*y = 0 \\\\\n",
    "x = -2*y\n",
    "\\end{equation*}\n",
    "\n",
    "Вектор :\n",
    "\\begin{bmatrix}\n",
    "   -2 \\\\\n",
    "    1\n",
    "\\end{bmatrix}\n",
    "\n",
    "---\n",
    "\n",
    "#### l = 4 :\n",
    "\\begin{equation*}\n",
    "-2x + 2*y = 0 \\\\\n",
    "x - y = 0 \\\\\n",
    "x = y\n",
    "\\end{equation*}\n",
    "\n",
    "Вектор :\n",
    "\\begin{bmatrix}\n",
    "    4 \\\\\n",
    "    4\n",
    "\\end{bmatrix}"
   ]
  },
  {
   "cell_type": "markdown",
   "metadata": {},
   "source": [
    "### Решение для m2"
   ]
  },
  {
   "cell_type": "code",
   "execution_count": 5,
   "metadata": {},
   "outputs": [
    {
     "name": "stdout",
     "output_type": "stream",
     "text": [
      "Собственное значение 2.999999999999999\n",
      "Собственный вектор [-0.81649658  0.40824829 -0.40824829]\n",
      "Собственное значение 5.999999999999997\n",
      "Собственный вектор [ 0.57735027  0.57735027 -0.57735027]\n",
      "Собственное значение 2.9999999999999996\n",
      "Собственный вектор [-0.27658128  0.8035929   0.52701162]\n"
     ]
    }
   ],
   "source": [
    "w, v = np.linalg.eig(m2)\n",
    "for i in range(len(w)):\n",
    "    print(\"Собственное значение \" + str(w[i]))\n",
    "    print(\"Собственный вектор \" + str(v[:,i]))"
   ]
  },
  {
   "cell_type": "markdown",
   "metadata": {},
   "source": [
    "\\begin{equation*}\n",
    "\\begin{bmatrix}\n",
    "    4 - l & 1 & -1 \\\\\n",
    "    1 & 4 - l & -1 \\\\\n",
    "    -1 & -1 & 4 - l \n",
    "\\end{bmatrix}\n",
    "= 0\n",
    "\\end{equation*}\n",
    "\n",
    "\\begin{equation*}\n",
    "    (4 - l) * ((4 - l)^2 - l) + 1 * ((4 - l) - 1) + (-1) * (-1 + (4 - l)) = 0 \\\\\n",
    "    -l^3 + 12 * l^2 - 45 * l + 54 = 0 \\\\\n",
    "    - \\\\\n",
    "    l_{1} = 3, l_{2} = 6\n",
    "\\end{equation*}\n",
    "\n",
    "\n",
    "---\n",
    "\n",
    "#### l = 3 :\n",
    "\\begin{equation*}\n",
    "x + y - z= 0 \\\\\n",
    "x + y - z = 0 \\\\\n",
    "-x - y + z = 0 \\\\\n",
    "- \\\\\n",
    "x = -y + z \\\\\n",
    "y = y \\\\\n",
    "z = z \\\\\n",
    "\\end{equation*}\n",
    "\n",
    "Вектор 1:\n",
    "\\begin{bmatrix}\n",
    "   0 \\\\\n",
    "   1 \\\\\n",
    "   1\n",
    "\\end{bmatrix}\n",
    "\n",
    "Вектор 2:\n",
    "\\begin{bmatrix}\n",
    "   1 \\\\\n",
    "   -1 \\\\\n",
    "   0\n",
    "\\end{bmatrix}\n",
    "\n",
    "---\n",
    "\n",
    "#### l = 6 :\n",
    "\\begin{equation*}\n",
    "-2x + y - z= 0 \\\\\n",
    "x - 2y - z = 0 \\\\\n",
    "-x - y - 2z = 0 \\\\\n",
    "- \\\\\n",
    "x = -z \\\\\n",
    "y = -z \\\\\n",
    "z = z\n",
    "\\end{equation*}\n",
    "\n",
    "Вектор :\n",
    "\\begin{bmatrix}\n",
    "    1 \\\\\n",
    "    1 \\\\\n",
    "    -1\n",
    "\\end{bmatrix}"
   ]
  },
  {
   "cell_type": "markdown",
   "metadata": {},
   "source": [
    "## Задание 3"
   ]
  },
  {
   "cell_type": "markdown",
   "metadata": {},
   "source": [
    "Найдите сингулярное разложение матрицы."
   ]
  },
  {
   "cell_type": "code",
   "execution_count": 56,
   "metadata": {},
   "outputs": [],
   "source": [
    "m3 = np.array([[1, 2],\n",
    "               [2, 3]])"
   ]
  },
  {
   "cell_type": "code",
   "execution_count": 65,
   "metadata": {},
   "outputs": [
    {
     "name": "stdout",
     "output_type": "stream",
     "text": [
      "[ 4.23606798 -0.23606798]\n"
     ]
    }
   ],
   "source": [
    "U, s, V = np.linalg.svd(m3)\n",
    "# print(U)\n",
    "# print(s)\n",
    "# print(V)\n",
    "\n",
    "A = U.dot(s.dot(V))\n",
    "print(A)"
   ]
  },
  {
   "cell_type": "code",
   "execution_count": null,
   "metadata": {},
   "outputs": [],
   "source": []
  }
 ],
 "metadata": {
  "kernelspec": {
   "display_name": "Python 3",
   "language": "python",
   "name": "python3"
  },
  "language_info": {
   "codemirror_mode": {
    "name": "ipython",
    "version": 3
   },
   "file_extension": ".py",
   "mimetype": "text/x-python",
   "name": "python",
   "nbconvert_exporter": "python",
   "pygments_lexer": "ipython3",
   "version": "3.7.4"
  }
 },
 "nbformat": 4,
 "nbformat_minor": 2
}
