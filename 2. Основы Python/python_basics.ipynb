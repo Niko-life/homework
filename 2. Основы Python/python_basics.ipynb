{
 "cells": [
  {
   "cell_type": "markdown",
   "metadata": {},
   "source": [
    "**Задание 1**. Даны 2 строки: *long_phrase* и *short_phrase*. \n",
    "Напишите код, который проверяет действительно ли длинная фраза *long_phrase* длиннее короткой *short_phrase*. И выводит *True* или *False* в зависимости от результата сравнения."
   ]
  },
  {
   "cell_type": "code",
   "execution_count": 6,
   "metadata": {},
   "outputs": [],
   "source": [
    "long_phrase = 'Насколько проще было бы писать программы, если бы не заказчики'\n",
    "short_phrase = '640Кб должно хватить для любых задач. Билл Гейтс (по легенде)'"
   ]
  },
  {
   "cell_type": "code",
   "execution_count": 7,
   "metadata": {},
   "outputs": [
    {
     "data": {
      "text/plain": [
       "True"
      ]
     },
     "execution_count": 7,
     "metadata": {},
     "output_type": "execute_result"
    }
   ],
   "source": [
    "len(long_phrase) > len(short_phrase)"
   ]
  },
  {
   "cell_type": "markdown",
   "metadata": {},
   "source": [
    "**Задание 2**. Дано значение объема файла в байтах (*в мегабайте 2^20 байт*). Напишите перевод этого значения в мегабайты в формате: \"*Объем файла равен 213.68Mb*\"."
   ]
  },
  {
   "cell_type": "code",
   "execution_count": 15,
   "metadata": {},
   "outputs": [
    {
     "name": "stdout",
     "output_type": "stream",
     "text": [
      "Объем файла равен 213.68 Mb\n"
     ]
    }
   ],
   "source": [
    "b_value = 224059719.68\n",
    "Mb_value = b_value / (2 ** 20)\n",
    "print('Объем файла равен', Mb_value, 'Mb')"
   ]
  },
  {
   "cell_type": "markdown",
   "metadata": {},
   "source": [
    "**Задание 3**. Разработать приложение для определения знака зодиака по дате рождения. Пример:\n",
    "\n",
    "Введите месяц: март\n",
    "\n",
    "Введите число: 6\n",
    "\n",
    "Вывод:\n",
    "Рыбы"
   ]
  },
  {
   "cell_type": "code",
   "execution_count": 29,
   "metadata": {},
   "outputs": [
    {
     "name": "stdout",
     "output_type": "stream",
     "text": [
      "Лев\n"
     ]
    }
   ],
   "source": [
    "month = 'Август'\n",
    "day = 17\n",
    "if month == 'Январь':\n",
    "        if 1<= day <= 20:\n",
    "            print('Козерог')\n",
    "        else:\n",
    "            print('Водолей')\n",
    "if month == 'Февраль':\n",
    "        if 1<= day <= 18:\n",
    "            print('Водолей')\n",
    "        else:\n",
    "            print('Рыбы')\n",
    "if month == 'Март':\n",
    "        if 1<= day <= 20:\n",
    "            print('Рыбы')\n",
    "        else:\n",
    "            print('Овен')\n",
    "if month == 'Апрель':\n",
    "        if 1<= day <= 20:\n",
    "            print('Овен')\n",
    "        else:\n",
    "            print('Телец')\n",
    "if month == 'Май':\n",
    "        if 1<= day <= 21:\n",
    "            print('Телец')\n",
    "        else:\n",
    "            print('Близнецы')\n",
    "if month == 'Июнь':\n",
    "        if 1<= day <= 21:\n",
    "            print('Близнецы')\n",
    "        else:\n",
    "            print('Рак')\n",
    "if month == 'Июль':\n",
    "        if 1<= day <= 22:\n",
    "            print('Рак')\n",
    "        else:\n",
    "            print('Лев')\n",
    "if month == 'Август':\n",
    "        if 1<= day <= 23:\n",
    "            print('Лев')\n",
    "        else:\n",
    "            print('Дева')            \n",
    "if month == 'Сентябрь':\n",
    "        if 1<= day <= 22:\n",
    "            print('Дева')\n",
    "        else:\n",
    "            print('Весы')            \n",
    "if month == 'Октябрь':\n",
    "        if 1<= day <= 23:\n",
    "            print('Весы')\n",
    "        else:\n",
    "            print('Скорпион')            \n",
    "if month == 'Ноябрь':\n",
    "        if 1<= day <= 22:\n",
    "            print('Скорпион')\n",
    "        else:\n",
    "            print('Стрелец')            \n",
    "if month == 'Декабрь':\n",
    "        if 1<= day <= 21:\n",
    "            print('Стрелец')\n",
    "        else:\n",
    "            print('Козерог')"
   ]
  },
  {
   "cell_type": "markdown",
   "metadata": {},
   "source": [
    "**Задание 4**. Нужно разработать приложение для финансового планирования.\n",
    "Приложение учитывает сколько уходит на ипотеку, \"на жизнь\" и сколько нужно отложить на пенсию.\n",
    "Пользователь вводит:\n",
    "- заработанную плату в месяц.\n",
    "- сколько процентов от ЗП уходит на ипотеку.\n",
    "- сколько процентов от ЗП уходит \"на жизнь\".\n",
    "- сколько раз приходит премия в год.\n",
    "\n",
    "Остальная часть заработанной платы откладывается на пенсию.\n",
    "\n",
    "Также пользователю приходит премия в размере зарплаты, от которой половина уходит на отпуск, а вторая половина откладывается.\n",
    "\n",
    "Программа должна учитывать сколько премий было в год.\n",
    "\n",
    "Нужно вывести сколько денег тратит пользователь на ипотеку и сколько он накопит за год.\n",
    "\n",
    "Пример:\n",
    "\n",
    "Введите заработанную плату в месяц: 100000\n",
    "\n",
    "Введите сколько процентов уходит на ипотеку: 30\n",
    "\n",
    "Введите сколько процентов уходит на жизнь: 50\n",
    "\n",
    "Введите количество премий за год: 2\n",
    "\n",
    "Вывод:\n",
    "На ипотеку было потрачено: 360000 рублей\n",
    "Было накоплено: 340000 рублей"
   ]
  },
  {
   "cell_type": "code",
   "execution_count": 1,
   "metadata": {},
   "outputs": [
    {
     "name": "stdout",
     "output_type": "stream",
     "text": [
      "Введите заработанную плату в месяц100000\n",
      "Введите сколько процентов уходит на ипотеку30\n",
      "Введите сколько процентов уходит на жизнь50\n",
      "Введите количество премий за год2\n",
      "На ипотеку было потрачено 360000.0 рублей\n",
      "Было накоплено 340000.0 рублей\n"
     ]
    }
   ],
   "source": [
    "payment = int(input('Введите заработанную плату в месяц'))\n",
    "mortgage_percent = int(input('Введите сколько процентов уходит на ипотеку'))\n",
    "expenses_percent = int(input('Введите сколько процентов уходит на жизнь'))\n",
    "bonus_number = int(input('Введите количество премий за год'))\n",
    "\n",
    "mortgage_year = 12 * payment * mortgage_percent / 100\n",
    "savings_year = 12 * payment * (100 - mortgage_percent - expenses_percent) / 100 \\\n",
    "+ bonus_number * payment / 2\n",
    "\n",
    "print('На ипотеку было потрачено', mortgage_year, 'рублей')\n",
    "print('Было накоплено', savings_year, 'рублей')"
   ]
  },
  {
   "cell_type": "code",
   "execution_count": null,
   "metadata": {},
   "outputs": [],
   "source": []
  }
 ],
 "metadata": {
  "kernelspec": {
   "display_name": "Python 3",
   "language": "python",
   "name": "python3"
  },
  "language_info": {
   "codemirror_mode": {
    "name": "ipython",
    "version": 3
   },
   "file_extension": ".py",
   "mimetype": "text/x-python",
   "name": "python",
   "nbconvert_exporter": "python",
   "pygments_lexer": "ipython3",
   "version": "3.7.4"
  }
 },
 "nbformat": 4,
 "nbformat_minor": 2
}
