{
 "cells": [
  {
   "cell_type": "markdown",
   "metadata": {},
   "source": [
    "# Домашнее задание"
   ]
  },
  {
   "cell_type": "code",
   "execution_count": 2,
   "metadata": {},
   "outputs": [],
   "source": [
    "import numpy as np\n",
    "import pandas as pd\n",
    "\n",
    "from sklearn.linear_model import LinearRegression"
   ]
  },
  {
   "cell_type": "markdown",
   "metadata": {},
   "source": [
    "Создадим сэмпл данных длясуммы выплаты при взятии займа на определенный период по определенной процентной ставке."
   ]
  },
  {
   "cell_type": "code",
   "execution_count": 4,
   "metadata": {},
   "outputs": [
    {
     "data": {
      "text/html": [
       "<div>\n",
       "<style scoped>\n",
       "    .dataframe tbody tr th:only-of-type {\n",
       "        vertical-align: middle;\n",
       "    }\n",
       "\n",
       "    .dataframe tbody tr th {\n",
       "        vertical-align: top;\n",
       "    }\n",
       "\n",
       "    .dataframe thead th {\n",
       "        text-align: right;\n",
       "    }\n",
       "</style>\n",
       "<table border=\"1\" class=\"dataframe\">\n",
       "  <thead>\n",
       "    <tr style=\"text-align: right;\">\n",
       "      <th></th>\n",
       "      <th>amount</th>\n",
       "      <th>rate</th>\n",
       "      <th>period</th>\n",
       "      <th>commission</th>\n",
       "      <th>payment_sum</th>\n",
       "    </tr>\n",
       "  </thead>\n",
       "  <tbody>\n",
       "    <tr>\n",
       "      <td>0</td>\n",
       "      <td>4614</td>\n",
       "      <td>5</td>\n",
       "      <td>14</td>\n",
       "      <td>133</td>\n",
       "      <td>7976.80</td>\n",
       "    </tr>\n",
       "    <tr>\n",
       "      <td>1</td>\n",
       "      <td>5981</td>\n",
       "      <td>7</td>\n",
       "      <td>22</td>\n",
       "      <td>71</td>\n",
       "      <td>15262.74</td>\n",
       "    </tr>\n",
       "    <tr>\n",
       "      <td>2</td>\n",
       "      <td>4242</td>\n",
       "      <td>3</td>\n",
       "      <td>29</td>\n",
       "      <td>128</td>\n",
       "      <td>8060.54</td>\n",
       "    </tr>\n",
       "    <tr>\n",
       "      <td>3</td>\n",
       "      <td>2984</td>\n",
       "      <td>4</td>\n",
       "      <td>24</td>\n",
       "      <td>89</td>\n",
       "      <td>5937.64</td>\n",
       "    </tr>\n",
       "    <tr>\n",
       "      <td>4</td>\n",
       "      <td>3583</td>\n",
       "      <td>7</td>\n",
       "      <td>15</td>\n",
       "      <td>67</td>\n",
       "      <td>7412.15</td>\n",
       "    </tr>\n",
       "  </tbody>\n",
       "</table>\n",
       "</div>"
      ],
      "text/plain": [
       "   amount  rate  period  commission  payment_sum\n",
       "0    4614     5      14         133      7976.80\n",
       "1    5981     7      22          71     15262.74\n",
       "2    4242     3      29         128      8060.54\n",
       "3    2984     4      24          89      5937.64\n",
       "4    3583     7      15          67      7412.15"
      ]
     },
     "execution_count": 4,
     "metadata": {},
     "output_type": "execute_result"
    }
   ],
   "source": [
    "n_samples = 500\n",
    "\n",
    "# исходная сумма займа\n",
    "amount = np.random.choice(4000, n_samples) + 2000\n",
    "\n",
    "# дневная ставка начислений\n",
    "rate = np.random.choice(6, n_samples) + 3\n",
    "\n",
    "# срок займа (дней)\n",
    "period = np.random.choice(28, n_samples) + 7\n",
    "\n",
    "# комиссия за взятие займа\n",
    "commission = np.random.choice(100, n_samples) + 50\n",
    "\n",
    "payment_sum = amount + amount * (rate / 100) * period + commission\n",
    "\n",
    "data = pd.DataFrame({'amount': amount, 'rate': rate, 'period': period, 'commission': commission, 'payment_sum': payment_sum})\n",
    "data.head(5)"
   ]
  },
  {
   "cell_type": "markdown",
   "metadata": {},
   "source": [
    "Выведем коэффицент влияния каждого параметра на результат и коэффицент ошибки"
   ]
  },
  {
   "cell_type": "code",
   "execution_count": 5,
   "metadata": {},
   "outputs": [
    {
     "name": "stdout",
     "output_type": "stream",
     "text": [
      "Weights: [ 2.14319253e+00  8.33184331e+02  2.21586202e+02 -2.99921200e-01]\n",
      "Bias: -8955.047994974935\n",
      "Error: 673.4365208443805\n"
     ]
    }
   ],
   "source": [
    "from sklearn.metrics import mean_absolute_error\n",
    "\n",
    "X = data[['amount', 'rate', 'period', 'commission']]\n",
    "y = data['payment_sum']\n",
    "reg = LinearRegression().fit(X, y)\n",
    "print('Weights: {}'.format(reg.coef_))\n",
    "print('Bias: {}'.format(reg.intercept_))\n",
    "\n",
    "pred_values = reg.predict(data[['amount', 'rate', 'period', 'commission']])\n",
    "print('Error: {}'.format(mean_absolute_error(pred_values, y)))"
   ]
  },
  {
   "cell_type": "markdown",
   "metadata": {},
   "source": [
    "Оставим наиболее влиятельные параметры"
   ]
  },
  {
   "cell_type": "code",
   "execution_count": 6,
   "metadata": {},
   "outputs": [
    {
     "name": "stdout",
     "output_type": "stream",
     "text": [
      "Weights: [  2.14326946 833.24126368 221.61920519]\n",
      "Bias: -8986.252883665587\n",
      "Error: 673.3132753515422\n"
     ]
    }
   ],
   "source": [
    "X = data[['amount', 'rate', 'period']]\n",
    "y = data['payment_sum']\n",
    "reg = LinearRegression().fit(X, y)\n",
    "print('Weights: {}'.format(reg.coef_))\n",
    "print('Bias: {}'.format(reg.intercept_))\n",
    "\n",
    "pred_values = reg.predict(data[['amount', 'rate', 'period']])\n",
    "print('Error: {}'.format(mean_absolute_error(pred_values, y)))"
   ]
  },
  {
   "cell_type": "markdown",
   "metadata": {},
   "source": [
    "Добавим новый параметр"
   ]
  },
  {
   "cell_type": "code",
   "execution_count": 7,
   "metadata": {},
   "outputs": [
    {
     "data": {
      "text/html": [
       "<div>\n",
       "<style scoped>\n",
       "    .dataframe tbody tr th:only-of-type {\n",
       "        vertical-align: middle;\n",
       "    }\n",
       "\n",
       "    .dataframe tbody tr th {\n",
       "        vertical-align: top;\n",
       "    }\n",
       "\n",
       "    .dataframe thead th {\n",
       "        text-align: right;\n",
       "    }\n",
       "</style>\n",
       "<table border=\"1\" class=\"dataframe\">\n",
       "  <thead>\n",
       "    <tr style=\"text-align: right;\">\n",
       "      <th></th>\n",
       "      <th>amount</th>\n",
       "      <th>rate</th>\n",
       "      <th>period</th>\n",
       "      <th>commission</th>\n",
       "      <th>payment_sum</th>\n",
       "      <th>accrual</th>\n",
       "    </tr>\n",
       "  </thead>\n",
       "  <tbody>\n",
       "    <tr>\n",
       "      <td>0</td>\n",
       "      <td>4614</td>\n",
       "      <td>5</td>\n",
       "      <td>14</td>\n",
       "      <td>133</td>\n",
       "      <td>7976.80</td>\n",
       "      <td>3229.80</td>\n",
       "    </tr>\n",
       "    <tr>\n",
       "      <td>1</td>\n",
       "      <td>5981</td>\n",
       "      <td>7</td>\n",
       "      <td>22</td>\n",
       "      <td>71</td>\n",
       "      <td>15262.74</td>\n",
       "      <td>9210.74</td>\n",
       "    </tr>\n",
       "    <tr>\n",
       "      <td>2</td>\n",
       "      <td>4242</td>\n",
       "      <td>3</td>\n",
       "      <td>29</td>\n",
       "      <td>128</td>\n",
       "      <td>8060.54</td>\n",
       "      <td>3690.54</td>\n",
       "    </tr>\n",
       "    <tr>\n",
       "      <td>3</td>\n",
       "      <td>2984</td>\n",
       "      <td>4</td>\n",
       "      <td>24</td>\n",
       "      <td>89</td>\n",
       "      <td>5937.64</td>\n",
       "      <td>2864.64</td>\n",
       "    </tr>\n",
       "    <tr>\n",
       "      <td>4</td>\n",
       "      <td>3583</td>\n",
       "      <td>7</td>\n",
       "      <td>15</td>\n",
       "      <td>67</td>\n",
       "      <td>7412.15</td>\n",
       "      <td>3762.15</td>\n",
       "    </tr>\n",
       "  </tbody>\n",
       "</table>\n",
       "</div>"
      ],
      "text/plain": [
       "   amount  rate  period  commission  payment_sum  accrual\n",
       "0    4614     5      14         133      7976.80  3229.80\n",
       "1    5981     7      22          71     15262.74  9210.74\n",
       "2    4242     3      29         128      8060.54  3690.54\n",
       "3    2984     4      24          89      5937.64  2864.64\n",
       "4    3583     7      15          67      7412.15  3762.15"
      ]
     },
     "execution_count": 7,
     "metadata": {},
     "output_type": "execute_result"
    }
   ],
   "source": [
    "# размер начислений\n",
    "data['accrual'] = data['amount'] * (data['rate'] / 100) * data['period']\n",
    "data.head(5)"
   ]
  },
  {
   "cell_type": "markdown",
   "metadata": {},
   "source": [
    "Выведем коэффицент ошибки с учетом нового параметра"
   ]
  },
  {
   "cell_type": "code",
   "execution_count": 9,
   "metadata": {},
   "outputs": [
    {
     "name": "stdout",
     "output_type": "stream",
     "text": [
      "Weights: [1.0003515  0.99948904]\n",
      "Bias: 100.69075318723662\n",
      "Error: 25.42547822514429\n"
     ]
    }
   ],
   "source": [
    "X = data[['amount', 'accrual']]\n",
    "y = data['payment_sum']\n",
    "reg = LinearRegression().fit(X, y)\n",
    "print('Weights: {}'.format(reg.coef_))\n",
    "print('Bias: {}'.format(reg.intercept_))\n",
    "\n",
    "pred_values = reg.predict(data[['amount', 'accrual']])\n",
    "print('Error: {}'.format(mean_absolute_error(pred_values, y)))"
   ]
  },
  {
   "cell_type": "code",
   "execution_count": null,
   "metadata": {},
   "outputs": [],
   "source": []
  }
 ],
 "metadata": {
  "kernelspec": {
   "display_name": "Python 3",
   "language": "python",
   "name": "python3"
  },
  "language_info": {
   "codemirror_mode": {
    "name": "ipython",
    "version": 3
   },
   "file_extension": ".py",
   "mimetype": "text/x-python",
   "name": "python",
   "nbconvert_exporter": "python",
   "pygments_lexer": "ipython3",
   "version": "3.7.4"
  }
 },
 "nbformat": 4,
 "nbformat_minor": 2
}
